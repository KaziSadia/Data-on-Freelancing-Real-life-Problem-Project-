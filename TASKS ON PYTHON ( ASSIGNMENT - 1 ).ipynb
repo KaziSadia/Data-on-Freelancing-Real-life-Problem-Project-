{
 "cells": [
  {
   "cell_type": "markdown",
   "metadata": {},
   "source": [
    "# TASK : 1"
   ]
  },
  {
   "cell_type": "code",
   "execution_count": 9,
   "metadata": {},
   "outputs": [
    {
     "name": "stdout",
     "output_type": "stream",
     "text": [
      "1505\n",
      "1540\n",
      "1575\n",
      "1610\n",
      "1645\n",
      "1680\n",
      "1715\n",
      "1750\n",
      "1785\n",
      "1820\n",
      "1855\n",
      "1890\n",
      "1925\n",
      "1960\n",
      "1995\n",
      "2030\n",
      "2065\n",
      "2100\n",
      "2135\n",
      "2170\n",
      "2205\n",
      "2240\n",
      "2275\n",
      "2310\n",
      "2345\n",
      "2380\n",
      "2415\n",
      "2450\n",
      "2485\n",
      "2520\n",
      "2555\n",
      "2590\n",
      "2625\n",
      "2660\n",
      "2695\n"
     ]
    }
   ],
   "source": [
    "x = 7\n",
    "y = 5\n",
    "i = 1500\n",
    "while i<2700:\n",
    "    i=i+1\n",
    "    \n",
    "    if (i%7==0) and (i%5==0):\n",
    "            print(i)"
   ]
  },
  {
   "cell_type": "markdown",
   "metadata": {},
   "source": [
    "# TASK : 2"
   ]
  },
  {
   "cell_type": "code",
   "execution_count": 1,
   "metadata": {},
   "outputs": [
    {
     "name": "stdout",
     "output_type": "stream",
     "text": [
      "Enter celcius value : 22.3\n",
      "Fahrenheit value :  72.14\n"
     ]
    }
   ],
   "source": [
    "Celsius =float(input(\"Enter celcius value : \"))\n",
    "\n",
    "Fahrenheit = (Celsius * 9/5)+32\n",
    "print(\"Fahrenheit value : \",Fahrenheit)\n"
   ]
  },
  {
   "cell_type": "code",
   "execution_count": 2,
   "metadata": {},
   "outputs": [
    {
     "name": "stdout",
     "output_type": "stream",
     "text": [
      "Enter Fahreheit value : 221\n",
      "Celsius value :  105.0\n"
     ]
    }
   ],
   "source": [
    "Fahrenheit =float(input(\"Enter Fahreheit value : \"))\n",
    "\n",
    "Celsius = (Fahrenheit-32)*5/9\n",
    "print(\"Celsius value : \",Celsius)"
   ]
  },
  {
   "cell_type": "markdown",
   "metadata": {},
   "source": [
    "# TASK : 3 "
   ]
  },
  {
   "cell_type": "code",
   "execution_count": 1,
   "metadata": {},
   "outputs": [
    {
     "name": "stdout",
     "output_type": "stream",
     "text": [
      "Enter an integer number :32\n",
      "OK\n"
     ]
    }
   ],
   "source": [
    "n=int(input(\"Enter an integer number :\"))\n",
    "\n",
    "if n%2!=0:\n",
    "    print(\"OK\")\n",
    "    \n",
    "else:\n",
    "    if n>=2 and n<=5:\n",
    "        print(\"NOT OK\")\n",
    "    elif  n>=6 and n<=20:\n",
    "        print(\"OK\")\n",
    "    elif n>20:\n",
    "        print(\"OK\")"
   ]
  },
  {
   "cell_type": "code",
   "execution_count": null,
   "metadata": {},
   "outputs": [],
   "source": []
  },
  {
   "cell_type": "code",
   "execution_count": null,
   "metadata": {},
   "outputs": [],
   "source": []
  },
  {
   "cell_type": "code",
   "execution_count": null,
   "metadata": {},
   "outputs": [],
   "source": []
  }
 ],
 "metadata": {
  "kernelspec": {
   "display_name": "Python 3",
   "language": "python",
   "name": "python3"
  },
  "language_info": {
   "codemirror_mode": {
    "name": "ipython",
    "version": 3
   },
   "file_extension": ".py",
   "mimetype": "text/x-python",
   "name": "python",
   "nbconvert_exporter": "python",
   "pygments_lexer": "ipython3",
   "version": "3.7.6"
  }
 },
 "nbformat": 4,
 "nbformat_minor": 4
}
